{
 "cells": [
  {
   "cell_type": "code",
   "execution_count": 389,
   "id": "initial_id",
   "metadata": {
    "collapsed": true,
    "ExecuteTime": {
     "end_time": "2024-11-01T19:14:07.062612Z",
     "start_time": "2024-11-01T19:14:07.058774Z"
    }
   },
   "outputs": [],
   "source": [
    "import pandas as pd\n",
    "import matplotlib.pyplot as plt\n",
    "import seaborn as sns\n",
    "import numpy as np\n",
    "import scipy.stats as stats"
   ]
  },
  {
   "cell_type": "code",
   "outputs": [],
   "source": [
    "calls = pd.read_csv('./datasets/calls.csv')\n",
    "internet = pd.read_csv('./datasets/internet.csv', index_col=0)\n",
    "messages = pd.read_csv('./datasets/messages.csv')\n",
    "tariffs = pd.read_csv('./datasets/tariffs.csv')\n",
    "users = pd.read_csv('./datasets/users.csv')  "
   ],
   "metadata": {
    "collapsed": false,
    "ExecuteTime": {
     "end_time": "2024-11-01T19:14:07.814327Z",
     "start_time": "2024-11-01T19:14:07.583735Z"
    }
   },
   "id": "42259517c5c0ca78",
   "execution_count": 390
  },
  {
   "cell_type": "markdown",
   "source": [
    "## Examining datasets"
   ],
   "metadata": {
    "collapsed": false
   },
   "id": "d6f93f4730e4fa98"
  },
  {
   "cell_type": "markdown",
   "source": [
    "### Calls dataset"
   ],
   "metadata": {
    "collapsed": false
   },
   "id": "a313c4fdb04d0ed6"
  },
  {
   "cell_type": "code",
   "outputs": [
    {
     "data": {
      "text/plain": "       id   call_date  duration  user_id\n0  1000_0  2018-07-25      0.00     1000\n1  1000_1  2018-08-17      0.00     1000\n2  1000_2  2018-06-11      2.85     1000\n3  1000_3  2018-09-21     13.80     1000\n4  1000_4  2018-12-15      5.18     1000",
      "text/html": "<div>\n<style scoped>\n    .dataframe tbody tr th:only-of-type {\n        vertical-align: middle;\n    }\n\n    .dataframe tbody tr th {\n        vertical-align: top;\n    }\n\n    .dataframe thead th {\n        text-align: right;\n    }\n</style>\n<table border=\"1\" class=\"dataframe\">\n  <thead>\n    <tr style=\"text-align: right;\">\n      <th></th>\n      <th>id</th>\n      <th>call_date</th>\n      <th>duration</th>\n      <th>user_id</th>\n    </tr>\n  </thead>\n  <tbody>\n    <tr>\n      <th>0</th>\n      <td>1000_0</td>\n      <td>2018-07-25</td>\n      <td>0.00</td>\n      <td>1000</td>\n    </tr>\n    <tr>\n      <th>1</th>\n      <td>1000_1</td>\n      <td>2018-08-17</td>\n      <td>0.00</td>\n      <td>1000</td>\n    </tr>\n    <tr>\n      <th>2</th>\n      <td>1000_2</td>\n      <td>2018-06-11</td>\n      <td>2.85</td>\n      <td>1000</td>\n    </tr>\n    <tr>\n      <th>3</th>\n      <td>1000_3</td>\n      <td>2018-09-21</td>\n      <td>13.80</td>\n      <td>1000</td>\n    </tr>\n    <tr>\n      <th>4</th>\n      <td>1000_4</td>\n      <td>2018-12-15</td>\n      <td>5.18</td>\n      <td>1000</td>\n    </tr>\n  </tbody>\n</table>\n</div>"
     },
     "execution_count": 391,
     "metadata": {},
     "output_type": "execute_result"
    }
   ],
   "source": [
    "calls.head()"
   ],
   "metadata": {
    "collapsed": false,
    "ExecuteTime": {
     "end_time": "2024-11-01T19:14:07.836823Z",
     "start_time": "2024-11-01T19:14:07.816932Z"
    }
   },
   "id": "84686428fe4a475d",
   "execution_count": 391
  },
  {
   "cell_type": "markdown",
   "source": [
    "The table columns contain the following information about the calls:\n",
    "\n",
    "- id - unique call number\n",
    "- call_date - date of the call\n",
    "- duration - duration of the call in minutes\n",
    "- user_id - identifier of the user who made the call"
   ],
   "metadata": {
    "collapsed": false
   },
   "id": "c0085f634798410e"
  },
  {
   "cell_type": "code",
   "outputs": [
    {
     "name": "stdout",
     "output_type": "stream",
     "text": [
      "<class 'pandas.core.frame.DataFrame'>\n",
      "RangeIndex: 202607 entries, 0 to 202606\n",
      "Data columns (total 4 columns):\n",
      " #   Column     Non-Null Count   Dtype  \n",
      "---  ------     --------------   -----  \n",
      " 0   id         202607 non-null  object \n",
      " 1   call_date  202607 non-null  object \n",
      " 2   duration   202607 non-null  float64\n",
      " 3   user_id    202607 non-null  int64  \n",
      "dtypes: float64(1), int64(1), object(2)\n",
      "memory usage: 6.2+ MB\n"
     ]
    }
   ],
   "source": [
    "calls.info()"
   ],
   "metadata": {
    "collapsed": false,
    "ExecuteTime": {
     "end_time": "2024-11-01T19:14:07.903524Z",
     "start_time": "2024-11-01T19:14:07.839539Z"
    }
   },
   "id": "7e5e67714372f7e0",
   "execution_count": 392
  },
  {
   "cell_type": "code",
   "outputs": [
    {
     "name": "stdout",
     "output_type": "stream",
     "text": [
      "Null values:\n",
      "id           0\n",
      "call_date    0\n",
      "duration     0\n",
      "user_id      0\n",
      "dtype: int64\n",
      "\n",
      "Duplicated values: 0\n"
     ]
    }
   ],
   "source": [
    "print(f'Null values:\\n{calls.isnull().sum()}\\n')\n",
    "print(f'Duplicated values: {calls.duplicated().sum()}')"
   ],
   "metadata": {
    "collapsed": false,
    "ExecuteTime": {
     "end_time": "2024-11-01T19:14:07.976439Z",
     "start_time": "2024-11-01T19:14:07.906491Z"
    }
   },
   "id": "b234f6a53a37a9e0",
   "execution_count": 393
  },
  {
   "cell_type": "code",
   "outputs": [
    {
     "data": {
      "text/plain": "count    202607.000000\nmean          6.755887\nstd           5.843365\nmin           0.000000\n25%           1.300000\n50%           6.000000\n75%          10.700000\nmax          38.000000\nName: duration, dtype: float64"
     },
     "execution_count": 394,
     "metadata": {},
     "output_type": "execute_result"
    }
   ],
   "source": [
    "calls['duration'].describe()"
   ],
   "metadata": {
    "collapsed": false,
    "ExecuteTime": {
     "end_time": "2024-11-01T19:14:08.001633Z",
     "start_time": "2024-11-01T19:14:07.977996Z"
    }
   },
   "id": "f369ffc89cb7ea84",
   "execution_count": 394
  },
  {
   "cell_type": "markdown",
   "source": [
    "The maximum talk time is 38 minutes, with an average talk time of about 6 minutes and 45 seconds or 6 minutes based on the median. The minimum talk time is 0 minutes, which is possibly a missing value. We will return to this column later in the data preprocessing phase."
   ],
   "metadata": {
    "collapsed": false
   },
   "id": "2882acf50c96fb04"
  },
  {
   "cell_type": "markdown",
   "source": [
    "### Internet dataset"
   ],
   "metadata": {
    "collapsed": false
   },
   "id": "9c44d147306488f6"
  },
  {
   "cell_type": "code",
   "outputs": [
    {
     "data": {
      "text/plain": "       id  mb_used session_date  user_id\n0  1000_0   112.95   2018-11-25     1000\n1  1000_1  1052.81   2018-09-07     1000\n2  1000_2  1197.26   2018-06-25     1000\n3  1000_3   550.27   2018-08-22     1000\n4  1000_4   302.56   2018-09-24     1000",
      "text/html": "<div>\n<style scoped>\n    .dataframe tbody tr th:only-of-type {\n        vertical-align: middle;\n    }\n\n    .dataframe tbody tr th {\n        vertical-align: top;\n    }\n\n    .dataframe thead th {\n        text-align: right;\n    }\n</style>\n<table border=\"1\" class=\"dataframe\">\n  <thead>\n    <tr style=\"text-align: right;\">\n      <th></th>\n      <th>id</th>\n      <th>mb_used</th>\n      <th>session_date</th>\n      <th>user_id</th>\n    </tr>\n  </thead>\n  <tbody>\n    <tr>\n      <th>0</th>\n      <td>1000_0</td>\n      <td>112.95</td>\n      <td>2018-11-25</td>\n      <td>1000</td>\n    </tr>\n    <tr>\n      <th>1</th>\n      <td>1000_1</td>\n      <td>1052.81</td>\n      <td>2018-09-07</td>\n      <td>1000</td>\n    </tr>\n    <tr>\n      <th>2</th>\n      <td>1000_2</td>\n      <td>1197.26</td>\n      <td>2018-06-25</td>\n      <td>1000</td>\n    </tr>\n    <tr>\n      <th>3</th>\n      <td>1000_3</td>\n      <td>550.27</td>\n      <td>2018-08-22</td>\n      <td>1000</td>\n    </tr>\n    <tr>\n      <th>4</th>\n      <td>1000_4</td>\n      <td>302.56</td>\n      <td>2018-09-24</td>\n      <td>1000</td>\n    </tr>\n  </tbody>\n</table>\n</div>"
     },
     "execution_count": 395,
     "metadata": {},
     "output_type": "execute_result"
    }
   ],
   "source": [
    "internet.head()"
   ],
   "metadata": {
    "collapsed": false,
    "ExecuteTime": {
     "end_time": "2024-11-01T19:14:08.014863Z",
     "start_time": "2024-11-01T19:14:08.003239Z"
    }
   },
   "id": "1d5e4dc16cb9d3b7",
   "execution_count": 395
  },
  {
   "cell_type": "markdown",
   "source": [
    "The table columns contain the following information about Internet sessions:\n",
    "\n",
    "- id - unique session number\n",
    "- mb_used - amount of internet traffic consumed during the session (in megabytes)\n",
    "- session_date - date of the Internet session\n",
    "- user_id - user ID"
   ],
   "metadata": {
    "collapsed": false
   },
   "id": "f53220284e0ce03c"
  },
  {
   "cell_type": "code",
   "outputs": [
    {
     "name": "stdout",
     "output_type": "stream",
     "text": [
      "<class 'pandas.core.frame.DataFrame'>\n",
      "Index: 149396 entries, 0 to 149395\n",
      "Data columns (total 4 columns):\n",
      " #   Column        Non-Null Count   Dtype  \n",
      "---  ------        --------------   -----  \n",
      " 0   id            149396 non-null  object \n",
      " 1   mb_used       149396 non-null  float64\n",
      " 2   session_date  149396 non-null  object \n",
      " 3   user_id       149396 non-null  int64  \n",
      "dtypes: float64(1), int64(1), object(2)\n",
      "memory usage: 5.7+ MB\n"
     ]
    }
   ],
   "source": [
    "internet.info()"
   ],
   "metadata": {
    "collapsed": false,
    "ExecuteTime": {
     "end_time": "2024-11-01T19:14:08.042156Z",
     "start_time": "2024-11-01T19:14:08.016362Z"
    }
   },
   "id": "c6242ca91700e303",
   "execution_count": 396
  },
  {
   "cell_type": "code",
   "outputs": [
    {
     "name": "stdout",
     "output_type": "stream",
     "text": [
      "Null values:\n",
      "id              0\n",
      "mb_used         0\n",
      "session_date    0\n",
      "user_id         0\n",
      "dtype: int64\n",
      "\n",
      "Duplicated values: 0\n"
     ]
    }
   ],
   "source": [
    "print(f'Null values:\\n{internet.isnull().sum()}\\n')\n",
    "print(f'Duplicated values: {internet.duplicated().sum()}')"
   ],
   "metadata": {
    "collapsed": false,
    "ExecuteTime": {
     "end_time": "2024-11-01T19:14:08.105656Z",
     "start_time": "2024-11-01T19:14:08.043969Z"
    }
   },
   "id": "82ab6223b2072732",
   "execution_count": 397
  },
  {
   "cell_type": "markdown",
   "source": [
    "Let's check the column with the amount of traffic consumed for negative and outlier values."
   ],
   "metadata": {
    "collapsed": false
   },
   "id": "f446b477b50ee252"
  },
  {
   "cell_type": "code",
   "outputs": [
    {
     "data": {
      "text/plain": "count    149396.000000\nmean        370.192426\nstd         278.300951\nmin           0.000000\n25%         138.187500\n50%         348.015000\n75%         559.552500\nmax        1724.830000\nName: mb_used, dtype: float64"
     },
     "execution_count": 398,
     "metadata": {},
     "output_type": "execute_result"
    }
   ],
   "source": [
    "internet['mb_used'].describe()"
   ],
   "metadata": {
    "collapsed": false,
    "ExecuteTime": {
     "end_time": "2024-11-01T19:14:08.123877Z",
     "start_time": "2024-11-01T19:14:08.111308Z"
    }
   },
   "id": "2004bc7ead633e0b",
   "execution_count": 398
  },
  {
   "cell_type": "markdown",
   "source": [
    "On average, a user uses 370 mb of traffic per session, the highest value is 1725 mb, and the smallest session has a value of 0 mb. Most likely, this is missing data that needs to be processed. We will come back to them later, during the data preprocessing phase."
   ],
   "metadata": {
    "collapsed": false
   },
   "id": "f0f2f564af74bb5e"
  },
  {
   "cell_type": "markdown",
   "source": [
    "### Messages dataset"
   ],
   "metadata": {
    "collapsed": false
   },
   "id": "424ee786aa728ce3"
  },
  {
   "cell_type": "code",
   "outputs": [
    {
     "data": {
      "text/plain": "       id message_date  user_id\n0  1000_0   2018-06-27     1000\n1  1000_1   2018-10-08     1000\n2  1000_2   2018-08-04     1000\n3  1000_3   2018-06-16     1000\n4  1000_4   2018-12-05     1000",
      "text/html": "<div>\n<style scoped>\n    .dataframe tbody tr th:only-of-type {\n        vertical-align: middle;\n    }\n\n    .dataframe tbody tr th {\n        vertical-align: top;\n    }\n\n    .dataframe thead th {\n        text-align: right;\n    }\n</style>\n<table border=\"1\" class=\"dataframe\">\n  <thead>\n    <tr style=\"text-align: right;\">\n      <th></th>\n      <th>id</th>\n      <th>message_date</th>\n      <th>user_id</th>\n    </tr>\n  </thead>\n  <tbody>\n    <tr>\n      <th>0</th>\n      <td>1000_0</td>\n      <td>2018-06-27</td>\n      <td>1000</td>\n    </tr>\n    <tr>\n      <th>1</th>\n      <td>1000_1</td>\n      <td>2018-10-08</td>\n      <td>1000</td>\n    </tr>\n    <tr>\n      <th>2</th>\n      <td>1000_2</td>\n      <td>2018-08-04</td>\n      <td>1000</td>\n    </tr>\n    <tr>\n      <th>3</th>\n      <td>1000_3</td>\n      <td>2018-06-16</td>\n      <td>1000</td>\n    </tr>\n    <tr>\n      <th>4</th>\n      <td>1000_4</td>\n      <td>2018-12-05</td>\n      <td>1000</td>\n    </tr>\n  </tbody>\n</table>\n</div>"
     },
     "execution_count": 399,
     "metadata": {},
     "output_type": "execute_result"
    }
   ],
   "source": [
    "messages.head()"
   ],
   "metadata": {
    "collapsed": false,
    "ExecuteTime": {
     "end_time": "2024-11-01T19:14:08.137484Z",
     "start_time": "2024-11-01T19:14:08.129832Z"
    }
   },
   "id": "27d036df1c66da4",
   "execution_count": 399
  },
  {
   "cell_type": "markdown",
   "source": [
    "The table columns contain the following information about user messages:\n",
    "\n",
    "- id - unique message number\n",
    "- message_date - message date\n",
    "- user_id - identifier of the user who sent the message"
   ],
   "metadata": {
    "collapsed": false
   },
   "id": "d12e46558035d269"
  },
  {
   "cell_type": "code",
   "outputs": [
    {
     "name": "stdout",
     "output_type": "stream",
     "text": [
      "<class 'pandas.core.frame.DataFrame'>\n",
      "RangeIndex: 123036 entries, 0 to 123035\n",
      "Data columns (total 3 columns):\n",
      " #   Column        Non-Null Count   Dtype \n",
      "---  ------        --------------   ----- \n",
      " 0   id            123036 non-null  object\n",
      " 1   message_date  123036 non-null  object\n",
      " 2   user_id       123036 non-null  int64 \n",
      "dtypes: int64(1), object(2)\n",
      "memory usage: 2.8+ MB\n"
     ]
    }
   ],
   "source": [
    "messages.info()"
   ],
   "metadata": {
    "collapsed": false,
    "ExecuteTime": {
     "end_time": "2024-11-01T19:14:08.167226Z",
     "start_time": "2024-11-01T19:14:08.140480Z"
    }
   },
   "id": "a366e3f72014eecb",
   "execution_count": 400
  },
  {
   "cell_type": "code",
   "outputs": [
    {
     "name": "stdout",
     "output_type": "stream",
     "text": [
      "Null values:\n",
      "id              0\n",
      "message_date    0\n",
      "user_id         0\n",
      "dtype: int64\n",
      "\n",
      "Duplicated values: 0\n"
     ]
    }
   ],
   "source": [
    "print(f'Null values:\\n{messages.isnull().sum()}\\n')\n",
    "print(f'Duplicated values: {messages.duplicated().sum()}')"
   ],
   "metadata": {
    "collapsed": false,
    "ExecuteTime": {
     "end_time": "2024-11-01T19:14:08.197873Z",
     "start_time": "2024-11-01T19:14:08.168867Z"
    }
   },
   "id": "f0a56d1adb1d79c7",
   "execution_count": 401
  },
  {
   "cell_type": "markdown",
   "source": [
    "### Tariffs dataset"
   ],
   "metadata": {
    "collapsed": false
   },
   "id": "6e0287f27a2548ed"
  },
  {
   "cell_type": "code",
   "outputs": [
    {
     "data": {
      "text/plain": "   messages_included  mb_per_month_included  minutes_included  \\\n0                 50                  15360               500   \n1               1000                  30720              3000   \n\n   gbp_monthly_fee  gbp_per_gb  gbp_per_message  gbp_per_minute tariff_name  \n0                6         2.0             0.03            0.03       smart  \n1               20         1.5             0.01            0.01   unlimited  ",
      "text/html": "<div>\n<style scoped>\n    .dataframe tbody tr th:only-of-type {\n        vertical-align: middle;\n    }\n\n    .dataframe tbody tr th {\n        vertical-align: top;\n    }\n\n    .dataframe thead th {\n        text-align: right;\n    }\n</style>\n<table border=\"1\" class=\"dataframe\">\n  <thead>\n    <tr style=\"text-align: right;\">\n      <th></th>\n      <th>messages_included</th>\n      <th>mb_per_month_included</th>\n      <th>minutes_included</th>\n      <th>gbp_monthly_fee</th>\n      <th>gbp_per_gb</th>\n      <th>gbp_per_message</th>\n      <th>gbp_per_minute</th>\n      <th>tariff_name</th>\n    </tr>\n  </thead>\n  <tbody>\n    <tr>\n      <th>0</th>\n      <td>50</td>\n      <td>15360</td>\n      <td>500</td>\n      <td>6</td>\n      <td>2.0</td>\n      <td>0.03</td>\n      <td>0.03</td>\n      <td>smart</td>\n    </tr>\n    <tr>\n      <th>1</th>\n      <td>1000</td>\n      <td>30720</td>\n      <td>3000</td>\n      <td>20</td>\n      <td>1.5</td>\n      <td>0.01</td>\n      <td>0.01</td>\n      <td>unlimited</td>\n    </tr>\n  </tbody>\n</table>\n</div>"
     },
     "execution_count": 402,
     "metadata": {},
     "output_type": "execute_result"
    }
   ],
   "source": [
    "tariffs.head()"
   ],
   "metadata": {
    "collapsed": false,
    "ExecuteTime": {
     "end_time": "2024-11-01T19:14:08.209723Z",
     "start_time": "2024-11-01T19:14:08.199484Z"
    }
   },
   "id": "ecc688944c831d88",
   "execution_count": 402
  },
  {
   "cell_type": "markdown",
   "source": [
    "The dataset columns contain the following information:\n",
    "\n",
    "- tariff_name - tariff name\n",
    "- gbp_monthly_fee - monthly subscription fee in pound sterling\n",
    "- minutes_included - number of minutes per month included in the subscription fee\n",
    "- messages_included - number of messages per month included in the subscription fee\n",
    "- mb_per_month_included - amount of Internet traffic included in the subscription fee (in megabytes)\n",
    "- gbp_per_minute - cost of a minute of call over the tariff package (for example, if the tariff includes 100 minutes of call per month, then 101 minutes will be charged)\n",
    "- gbp_per_message - cost of sending a message in excess of the tariff package\n",
    "- gbp_per_gb - cost of additional gigabyte of Internet traffic over the tariff package (1 gigabyte = 1024 megabytes)."
   ],
   "metadata": {
    "collapsed": false
   },
   "id": "29d34c418f659022"
  },
  {
   "cell_type": "code",
   "outputs": [
    {
     "name": "stdout",
     "output_type": "stream",
     "text": [
      "<class 'pandas.core.frame.DataFrame'>\n",
      "RangeIndex: 2 entries, 0 to 1\n",
      "Data columns (total 8 columns):\n",
      " #   Column                 Non-Null Count  Dtype  \n",
      "---  ------                 --------------  -----  \n",
      " 0   messages_included      2 non-null      int64  \n",
      " 1   mb_per_month_included  2 non-null      int64  \n",
      " 2   minutes_included       2 non-null      int64  \n",
      " 3   gbp_monthly_fee        2 non-null      int64  \n",
      " 4   gbp_per_gb             2 non-null      float64\n",
      " 5   gbp_per_message        2 non-null      float64\n",
      " 6   gbp_per_minute         2 non-null      float64\n",
      " 7   tariff_name            2 non-null      object \n",
      "dtypes: float64(3), int64(4), object(1)\n",
      "memory usage: 260.0+ bytes\n"
     ]
    }
   ],
   "source": [
    "tariffs.info()"
   ],
   "metadata": {
    "collapsed": false,
    "ExecuteTime": {
     "end_time": "2024-11-01T19:14:08.215669Z",
     "start_time": "2024-11-01T19:14:08.210864Z"
    }
   },
   "id": "853de594532da3b1",
   "execution_count": 403
  },
  {
   "cell_type": "markdown",
   "source": [
    "### Users dataset"
   ],
   "metadata": {
    "collapsed": false
   },
   "id": "1f88ab538672506d"
  },
  {
   "cell_type": "code",
   "outputs": [
    {
     "data": {
      "text/plain": "   user_id  age churn_date        city    reg_date     tariff\n0     1000   52        NaN  Manchester  2018-05-25  unlimited\n1     1001   41        NaN      London  2018-11-01      smart\n2     1002   59        NaN   Sheffield  2018-06-17      smart\n3     1003   23        NaN      London  2018-08-17  unlimited\n4     1004   68        NaN     Bristol  2018-05-14  unlimited",
      "text/html": "<div>\n<style scoped>\n    .dataframe tbody tr th:only-of-type {\n        vertical-align: middle;\n    }\n\n    .dataframe tbody tr th {\n        vertical-align: top;\n    }\n\n    .dataframe thead th {\n        text-align: right;\n    }\n</style>\n<table border=\"1\" class=\"dataframe\">\n  <thead>\n    <tr style=\"text-align: right;\">\n      <th></th>\n      <th>user_id</th>\n      <th>age</th>\n      <th>churn_date</th>\n      <th>city</th>\n      <th>reg_date</th>\n      <th>tariff</th>\n    </tr>\n  </thead>\n  <tbody>\n    <tr>\n      <th>0</th>\n      <td>1000</td>\n      <td>52</td>\n      <td>NaN</td>\n      <td>Manchester</td>\n      <td>2018-05-25</td>\n      <td>unlimited</td>\n    </tr>\n    <tr>\n      <th>1</th>\n      <td>1001</td>\n      <td>41</td>\n      <td>NaN</td>\n      <td>London</td>\n      <td>2018-11-01</td>\n      <td>smart</td>\n    </tr>\n    <tr>\n      <th>2</th>\n      <td>1002</td>\n      <td>59</td>\n      <td>NaN</td>\n      <td>Sheffield</td>\n      <td>2018-06-17</td>\n      <td>smart</td>\n    </tr>\n    <tr>\n      <th>3</th>\n      <td>1003</td>\n      <td>23</td>\n      <td>NaN</td>\n      <td>London</td>\n      <td>2018-08-17</td>\n      <td>unlimited</td>\n    </tr>\n    <tr>\n      <th>4</th>\n      <td>1004</td>\n      <td>68</td>\n      <td>NaN</td>\n      <td>Bristol</td>\n      <td>2018-05-14</td>\n      <td>unlimited</td>\n    </tr>\n  </tbody>\n</table>\n</div>"
     },
     "execution_count": 404,
     "metadata": {},
     "output_type": "execute_result"
    }
   ],
   "source": [
    "users.head()"
   ],
   "metadata": {
    "collapsed": false,
    "ExecuteTime": {
     "end_time": "2024-11-01T19:14:08.229199Z",
     "start_time": "2024-11-01T19:14:08.219742Z"
    }
   },
   "id": "f315cf5c18ecb07d",
   "execution_count": 404
  },
  {
   "cell_type": "markdown",
   "source": [
    "The table columns contain the following information about users:\n",
    "\n",
    "- user_id - unique user identifier\n",
    "- age - user's age (years)\n",
    "- reg_date - date of tariff connection (day, month, year)\n",
    "- churn_date - date of tariff termination (if the value is missing, the tariff was still valid at the moment of data upload)\n",
    "- city - city of user's residence\n",
    "- tariff - name of tariff plan"
   ],
   "metadata": {
    "collapsed": false
   },
   "id": "5a5ccce68a15e0af"
  },
  {
   "cell_type": "code",
   "outputs": [
    {
     "name": "stdout",
     "output_type": "stream",
     "text": [
      "<class 'pandas.core.frame.DataFrame'>\n",
      "RangeIndex: 500 entries, 0 to 499\n",
      "Data columns (total 6 columns):\n",
      " #   Column      Non-Null Count  Dtype \n",
      "---  ------      --------------  ----- \n",
      " 0   user_id     500 non-null    int64 \n",
      " 1   age         500 non-null    int64 \n",
      " 2   churn_date  38 non-null     object\n",
      " 3   city        500 non-null    object\n",
      " 4   reg_date    500 non-null    object\n",
      " 5   tariff      500 non-null    object\n",
      "dtypes: int64(2), object(4)\n",
      "memory usage: 23.6+ KB\n"
     ]
    }
   ],
   "source": [
    "users.info()"
   ],
   "metadata": {
    "collapsed": false,
    "ExecuteTime": {
     "end_time": "2024-11-01T19:14:08.235020Z",
     "start_time": "2024-11-01T19:14:08.230271Z"
    }
   },
   "id": "9c66832052a20643",
   "execution_count": 405
  },
  {
   "cell_type": "code",
   "outputs": [
    {
     "name": "stdout",
     "output_type": "stream",
     "text": [
      "Null values:\n",
      "user_id         0\n",
      "age             0\n",
      "churn_date    462\n",
      "city            0\n",
      "reg_date        0\n",
      "tariff          0\n",
      "dtype: int64\n",
      "\n",
      "Duplicated values: 0\n"
     ]
    }
   ],
   "source": [
    "print(f'Null values:\\n{users.isnull().sum()}\\n')\n",
    "print(f'Duplicated values: {users.duplicated().sum()}')"
   ],
   "metadata": {
    "collapsed": false,
    "ExecuteTime": {
     "end_time": "2024-11-01T19:14:08.243353Z",
     "start_time": "2024-11-01T19:14:08.238645Z"
    }
   },
   "id": "e14f262331caffc5",
   "execution_count": 406
  },
  {
   "cell_type": "markdown",
   "source": [
    "There are gaps in the **‘churn_date’** column, but these gaps mean that the user's tariff was valid at the time of upload. Since information on tariff termination is not required for further analysis, it is not necessary to process and fill in these blanks.\n"
   ],
   "metadata": {
    "collapsed": false
   },
   "id": "d7c988cf501e0d2d"
  },
  {
   "cell_type": "code",
   "outputs": [
    {
     "data": {
      "text/plain": "count    500.00000\nmean      46.58800\nstd       16.66763\nmin       18.00000\n25%       32.00000\n50%       46.00000\n75%       62.00000\nmax       75.00000\nName: age, dtype: float64"
     },
     "execution_count": 407,
     "metadata": {},
     "output_type": "execute_result"
    }
   ],
   "source": [
    "users['age'].describe()"
   ],
   "metadata": {
    "collapsed": false,
    "ExecuteTime": {
     "end_time": "2024-11-01T19:14:08.354971Z",
     "start_time": "2024-11-01T19:14:08.349862Z"
    }
   },
   "id": "d92e0d611264703e",
   "execution_count": 407
  },
  {
   "cell_type": "markdown",
   "source": [
    "The youngest client is 18 years old, the oldest client is 75 years old, the average age of users is 47 years old. No anomalies were found.\n"
   ],
   "metadata": {
    "collapsed": false
   },
   "id": "2e72eca5adc0367b"
  },
  {
   "cell_type": "code",
   "outputs": [
    {
     "data": {
      "text/plain": "tariff\nsmart        351\nunlimited    149\nName: count, dtype: int64"
     },
     "execution_count": 408,
     "metadata": {},
     "output_type": "execute_result"
    }
   ],
   "source": [
    "users['tariff'].value_counts()"
   ],
   "metadata": {
    "collapsed": false,
    "ExecuteTime": {
     "end_time": "2024-11-01T19:14:08.929728Z",
     "start_time": "2024-11-01T19:14:08.918028Z"
    }
   },
   "id": "6337fce0460ca4c",
   "execution_count": 408
  },
  {
   "cell_type": "code",
   "outputs": [
    {
     "name": "stdout",
     "output_type": "stream",
     "text": [
      "The ‘churn_date’ column is missing 92.4% of the data\n"
     ]
    }
   ],
   "source": [
    "percent_of_churn_gaps = len(users[users['churn_date'].isna()])*100/len(users)\n",
    "print(f'The ‘churn_date’ column is missing {percent_of_churn_gaps}% of the data')"
   ],
   "metadata": {
    "collapsed": false,
    "ExecuteTime": {
     "end_time": "2024-11-01T19:14:09.139566Z",
     "start_time": "2024-11-01T19:14:09.136486Z"
    }
   },
   "id": "d0d0a151bf4d4ced",
   "execution_count": 409
  },
  {
   "cell_type": "markdown",
   "source": [
    "## Data preprocessing"
   ],
   "metadata": {
    "collapsed": false
   },
   "id": "1614cb9b64751f1d"
  },
  {
   "cell_type": "markdown",
   "source": [
    "### Changing data types"
   ],
   "metadata": {
    "collapsed": false
   },
   "id": "68b12ab61e186fe9"
  },
  {
   "cell_type": "markdown",
   "source": [
    "Let's change the data type in the columns with dates for all dataframes. To do this, we use the pd.to_datetime() method"
   ],
   "metadata": {
    "collapsed": false
   },
   "id": "33ff7fae175f6228"
  },
  {
   "cell_type": "code",
   "outputs": [],
   "source": [
    "users['reg_date'] = pd.to_datetime(users['reg_date'], format='%Y-%m-%d')\n",
    "users['churn_date'] = pd.to_datetime(users['churn_date'], format='%Y-%m-%d')\n",
    "calls['call_date'] = pd.to_datetime(calls['call_date'], format='%Y-%m-%d')\n",
    "internet['session_date'] = pd.to_datetime(internet['session_date'], format='%Y-%m-%d')\n",
    "messages['message_date'] = pd.to_datetime(messages['message_date'], format='%Y-%m-%d')"
   ],
   "metadata": {
    "collapsed": false,
    "ExecuteTime": {
     "end_time": "2024-11-01T19:14:09.305597Z",
     "start_time": "2024-11-01T19:14:09.267096Z"
    }
   },
   "id": "81f0d660f7fa2820",
   "execution_count": 410
  },
  {
   "cell_type": "code",
   "outputs": [],
   "source": [
    "calls['duration'] = np.ceil(calls['duration'])\n",
    "calls = calls.astype({'duration': int})"
   ],
   "metadata": {
    "collapsed": false,
    "ExecuteTime": {
     "end_time": "2024-11-01T19:14:09.348952Z",
     "start_time": "2024-11-01T19:14:09.338202Z"
    }
   },
   "id": "e101290ec627554c",
   "execution_count": 411
  },
  {
   "cell_type": "markdown",
   "source": [
    "### Handling missing values"
   ],
   "metadata": {
    "collapsed": false
   },
   "id": "1e60f2c262fa19bb"
  },
  {
   "cell_type": "code",
   "outputs": [
    {
     "name": "stdout",
     "output_type": "stream",
     "text": [
      "Number of calls with duration of 0 seconds: 39613\n",
      "The ratio of the number of silent calls to the number of all calls: 19.55%\n"
     ]
    }
   ],
   "source": [
    "silent_calls = calls.query('duration == 0')\n",
    "silent_calls_percent = len(silent_calls) / len(calls)\n",
    "print(f'Number of calls with duration of 0 seconds: {silent_calls['duration'].count()}')\n",
    "print('The ratio of the number of silent calls to the number of all calls: {:.2%}'.format(silent_calls_percent))"
   ],
   "metadata": {
    "collapsed": false,
    "ExecuteTime": {
     "end_time": "2024-11-01T19:14:09.401246Z",
     "start_time": "2024-11-01T19:14:09.379998Z"
    }
   },
   "id": "e2d8a1f8b0d9ffed",
   "execution_count": 412
  },
  {
   "cell_type": "markdown",
   "source": [
    "In the **calls** table, almost 20% of all call duration values are null. This could be due to a data storage error or other failure. They could also be due to the call tracking system filling in missed or unexcused calls as null values."
   ],
   "metadata": {
    "collapsed": false
   },
   "id": "37d15191d56495d9"
  },
  {
   "cell_type": "code",
   "outputs": [
    {
     "name": "stdout",
     "output_type": "stream",
     "text": [
      "Number of sessions without traffic consumption: 19598\n",
      "Ratio of the number of empty sessions to the number of all sessions: 13.12%\n"
     ]
    }
   ],
   "source": [
    "empty_sessions = internet.query('mb_used == 0')\n",
    "empty_sessions_percent = len(empty_sessions) / len(internet)\n",
    "print(f'Number of sessions without traffic consumption: {empty_sessions['mb_used'].count()}')\n",
    "print('Ratio of the number of empty sessions to the number of all sessions: {:.2%}'.format(empty_sessions_percent))"
   ],
   "metadata": {
    "collapsed": false,
    "ExecuteTime": {
     "end_time": "2024-11-01T19:14:09.460999Z",
     "start_time": "2024-11-01T19:14:09.440072Z"
    }
   },
   "id": "ed3d70540c84c04d",
   "execution_count": 413
  },
  {
   "cell_type": "code",
   "outputs": [
    {
     "data": {
      "text/plain": "count    202607.000000\nmean          7.158198\nstd           5.959173\nmin           0.000000\n25%           2.000000\n50%           6.000000\n75%          11.000000\nmax          38.000000\nName: duration, dtype: float64"
     },
     "execution_count": 414,
     "metadata": {},
     "output_type": "execute_result"
    }
   ],
   "source": [
    "calls['duration'].describe()"
   ],
   "metadata": {
    "collapsed": false,
    "ExecuteTime": {
     "end_time": "2024-11-01T19:14:09.468029Z",
     "start_time": "2024-11-01T19:14:09.461764Z"
    }
   },
   "id": "3d6404fe00e4ccea",
   "execution_count": 414
  },
  {
   "cell_type": "code",
   "outputs": [],
   "source": [
    "calls_copy = calls.copy()"
   ],
   "metadata": {
    "collapsed": false,
    "ExecuteTime": {
     "end_time": "2024-11-01T19:14:09.500389Z",
     "start_time": "2024-11-01T19:14:09.494124Z"
    }
   },
   "id": "3ac29dc86cabaab1",
   "execution_count": 415
  },
  {
   "cell_type": "code",
   "outputs": [],
   "source": [
    "calls_copy = calls_copy.drop(calls_copy[calls_copy['duration'] == 0 ]['duration'].index).reset_index(drop = True)"
   ],
   "metadata": {
    "collapsed": false,
    "ExecuteTime": {
     "end_time": "2024-11-01T19:14:09.533080Z",
     "start_time": "2024-11-01T19:14:09.521615Z"
    }
   },
   "id": "a9ca8b4f82649bf9",
   "execution_count": 416
  },
  {
   "cell_type": "code",
   "outputs": [
    {
     "data": {
      "text/plain": "count    162994.000000\nmean          8.897880\nstd           5.353761\nmin           1.000000\n25%           5.000000\n50%           8.000000\n75%          12.000000\nmax          38.000000\nName: duration, dtype: float64"
     },
     "execution_count": 417,
     "metadata": {},
     "output_type": "execute_result"
    }
   ],
   "source": [
    "calls_copy['duration'].describe()"
   ],
   "metadata": {
    "collapsed": false,
    "ExecuteTime": {
     "end_time": "2024-11-01T19:14:09.578968Z",
     "start_time": "2024-11-01T19:14:09.569642Z"
    }
   },
   "id": "ab353eba9ca7c595",
   "execution_count": 417
  },
  {
   "cell_type": "markdown",
   "source": [
    "Mean and median increased significantly after removing the zero values."
   ],
   "metadata": {
    "collapsed": false
   },
   "id": "f73a8f3a00a9e963"
  },
  {
   "cell_type": "markdown",
   "source": [
    "We will treat zero values of call duration as missed or unanswered calls, and zero traffic consumption as an incorrectly stored session in which the user did not spend any traffic."
   ],
   "metadata": {
    "collapsed": false
   },
   "id": "ecfda1737938646b"
  },
  {
   "cell_type": "markdown",
   "source": [
    "### Adding new data to the table"
   ],
   "metadata": {
    "collapsed": false
   },
   "id": "86473786ebd1416c"
  },
  {
   "cell_type": "markdown",
   "source": [
    "For further analysis we will need to group the data on calls, messages and Internet traffic by month. Let's add a new column to the corresponding tables with the month of the operation performed by the user"
   ],
   "metadata": {
    "collapsed": false
   },
   "id": "ceb7078d8a92ec12"
  },
  {
   "cell_type": "code",
   "outputs": [],
   "source": [
    "calls['month'] = calls['call_date'].dt.month \n",
    "internet['month'] = internet['session_date'].dt.month \n",
    "messages['month'] = messages['message_date'].dt.month "
   ],
   "metadata": {
    "collapsed": false,
    "ExecuteTime": {
     "end_time": "2024-11-01T19:14:09.647048Z",
     "start_time": "2024-11-01T19:14:09.619137Z"
    }
   },
   "id": "2eb53ac79ab7c68",
   "execution_count": 418
  },
  {
   "cell_type": "markdown",
   "source": [
    "### Pivot table to calculate revenue by month"
   ],
   "metadata": {
    "collapsed": false
   },
   "id": "4fd0dbfb768175cd"
  },
  {
   "cell_type": "markdown",
   "source": [
    "#### 1. Counting the number of calls made and minutes spent by month."
   ],
   "metadata": {
    "collapsed": false
   },
   "id": "acd5f500915020b6"
  },
  {
   "cell_type": "code",
   "outputs": [
    {
     "data": {
      "text/plain": "               calls_count  calls_duration\nuser_id month                             \n1000    5               22             159\n        6               43             172\n        7               47             340\n        8               52             408\n        9               58             466",
      "text/html": "<div>\n<style scoped>\n    .dataframe tbody tr th:only-of-type {\n        vertical-align: middle;\n    }\n\n    .dataframe tbody tr th {\n        vertical-align: top;\n    }\n\n    .dataframe thead th {\n        text-align: right;\n    }\n</style>\n<table border=\"1\" class=\"dataframe\">\n  <thead>\n    <tr style=\"text-align: right;\">\n      <th></th>\n      <th></th>\n      <th>calls_count</th>\n      <th>calls_duration</th>\n    </tr>\n    <tr>\n      <th>user_id</th>\n      <th>month</th>\n      <th></th>\n      <th></th>\n    </tr>\n  </thead>\n  <tbody>\n    <tr>\n      <th rowspan=\"5\" valign=\"top\">1000</th>\n      <th>5</th>\n      <td>22</td>\n      <td>159</td>\n    </tr>\n    <tr>\n      <th>6</th>\n      <td>43</td>\n      <td>172</td>\n    </tr>\n    <tr>\n      <th>7</th>\n      <td>47</td>\n      <td>340</td>\n    </tr>\n    <tr>\n      <th>8</th>\n      <td>52</td>\n      <td>408</td>\n    </tr>\n    <tr>\n      <th>9</th>\n      <td>58</td>\n      <td>466</td>\n    </tr>\n  </tbody>\n</table>\n</div>"
     },
     "execution_count": 419,
     "metadata": {},
     "output_type": "execute_result"
    }
   ],
   "source": [
    "calls_per_month = calls.pivot_table(index=['user_id', 'month'], \n",
    "                                    values='duration', \n",
    "                                    aggfunc=['count', 'sum'])\n",
    "calls_per_month.columns = ['calls_count', 'calls_duration']\n",
    "calls_per_month.head()"
   ],
   "metadata": {
    "collapsed": false,
    "ExecuteTime": {
     "end_time": "2024-11-01T19:14:09.755846Z",
     "start_time": "2024-11-01T19:14:09.712820Z"
    }
   },
   "id": "f8c754b0be45e596",
   "execution_count": 419
  },
  {
   "cell_type": "markdown",
   "source": [
    "#### 2. Counting the amount of traffic consumed by month for each user."
   ],
   "metadata": {
    "collapsed": false
   },
   "id": "841e596b94894d8e"
  },
  {
   "cell_type": "code",
   "outputs": [
    {
     "data": {
      "text/plain": "               mb_used_sum\nuser_id month             \n1000    5           2254.0\n        6          23234.0\n        7          14004.0\n        8          14056.0\n        9          14569.0",
      "text/html": "<div>\n<style scoped>\n    .dataframe tbody tr th:only-of-type {\n        vertical-align: middle;\n    }\n\n    .dataframe tbody tr th {\n        vertical-align: top;\n    }\n\n    .dataframe thead th {\n        text-align: right;\n    }\n</style>\n<table border=\"1\" class=\"dataframe\">\n  <thead>\n    <tr style=\"text-align: right;\">\n      <th></th>\n      <th></th>\n      <th>mb_used_sum</th>\n    </tr>\n    <tr>\n      <th>user_id</th>\n      <th>month</th>\n      <th></th>\n    </tr>\n  </thead>\n  <tbody>\n    <tr>\n      <th rowspan=\"5\" valign=\"top\">1000</th>\n      <th>5</th>\n      <td>2254.0</td>\n    </tr>\n    <tr>\n      <th>6</th>\n      <td>23234.0</td>\n    </tr>\n    <tr>\n      <th>7</th>\n      <td>14004.0</td>\n    </tr>\n    <tr>\n      <th>8</th>\n      <td>14056.0</td>\n    </tr>\n    <tr>\n      <th>9</th>\n      <td>14569.0</td>\n    </tr>\n  </tbody>\n</table>\n</div>"
     },
     "execution_count": 420,
     "metadata": {},
     "output_type": "execute_result"
    }
   ],
   "source": [
    "mb_used_per_month = internet.pivot_table(index=['user_id', 'month'], \n",
    "                                         values='mb_used', \n",
    "                                         aggfunc='sum')\n",
    "mb_used_per_month.columns = ['mb_used_sum'] \n",
    "mb_used_per_month['mb_used_sum'] = np.ceil(mb_used_per_month['mb_used_sum'])\n",
    "mb_used_per_month.head()"
   ],
   "metadata": {
    "collapsed": false,
    "ExecuteTime": {
     "end_time": "2024-11-01T19:14:09.821730Z",
     "start_time": "2024-11-01T19:14:09.808591Z"
    }
   },
   "id": "c54137485c7cf532",
   "execution_count": 420
  },
  {
   "cell_type": "markdown",
   "source": [
    "#### 3. Counting the number of sent messages by month for each user."
   ],
   "metadata": {
    "collapsed": false
   },
   "id": "150dbebedb59eadd"
  },
  {
   "cell_type": "code",
   "outputs": [
    {
     "data": {
      "text/plain": "               msg_count\nuser_id month           \n1000    5             22\n        6             60\n        7             75\n        8             81\n        9             57",
      "text/html": "<div>\n<style scoped>\n    .dataframe tbody tr th:only-of-type {\n        vertical-align: middle;\n    }\n\n    .dataframe tbody tr th {\n        vertical-align: top;\n    }\n\n    .dataframe thead th {\n        text-align: right;\n    }\n</style>\n<table border=\"1\" class=\"dataframe\">\n  <thead>\n    <tr style=\"text-align: right;\">\n      <th></th>\n      <th></th>\n      <th>msg_count</th>\n    </tr>\n    <tr>\n      <th>user_id</th>\n      <th>month</th>\n      <th></th>\n    </tr>\n  </thead>\n  <tbody>\n    <tr>\n      <th rowspan=\"5\" valign=\"top\">1000</th>\n      <th>5</th>\n      <td>22</td>\n    </tr>\n    <tr>\n      <th>6</th>\n      <td>60</td>\n    </tr>\n    <tr>\n      <th>7</th>\n      <td>75</td>\n    </tr>\n    <tr>\n      <th>8</th>\n      <td>81</td>\n    </tr>\n    <tr>\n      <th>9</th>\n      <td>57</td>\n    </tr>\n  </tbody>\n</table>\n</div>"
     },
     "execution_count": 421,
     "metadata": {},
     "output_type": "execute_result"
    }
   ],
   "source": [
    "messages_per_month = messages.pivot_table(index=['user_id', 'month'], \n",
    "                                          values='message_date',\n",
    "                                          aggfunc='count')\n",
    "messages_per_month.columns = ['msg_count']\n",
    "messages_per_month.head()"
   ],
   "metadata": {
    "collapsed": false,
    "ExecuteTime": {
     "end_time": "2024-11-01T19:14:09.852765Z",
     "start_time": "2024-11-01T19:14:09.837390Z"
    }
   },
   "id": "2b0f8e431f8624fe",
   "execution_count": 421
  },
  {
   "cell_type": "markdown",
   "source": [
    "#### 4. Counting monthly revenue per user."
   ],
   "metadata": {
    "collapsed": false
   },
   "id": "366415fba80199d3"
  },
  {
   "cell_type": "code",
   "outputs": [
    {
     "data": {
      "text/plain": "               calls_count  calls_duration  mb_used_sum  msg_count\nuser_id month                                                     \n1000    5             22.0           159.0       2254.0       22.0\n        6             43.0           172.0      23234.0       60.0\n        7             47.0           340.0      14004.0       75.0\n        8             52.0           408.0      14056.0       81.0\n        9             58.0           466.0      14569.0       57.0",
      "text/html": "<div>\n<style scoped>\n    .dataframe tbody tr th:only-of-type {\n        vertical-align: middle;\n    }\n\n    .dataframe tbody tr th {\n        vertical-align: top;\n    }\n\n    .dataframe thead th {\n        text-align: right;\n    }\n</style>\n<table border=\"1\" class=\"dataframe\">\n  <thead>\n    <tr style=\"text-align: right;\">\n      <th></th>\n      <th></th>\n      <th>calls_count</th>\n      <th>calls_duration</th>\n      <th>mb_used_sum</th>\n      <th>msg_count</th>\n    </tr>\n    <tr>\n      <th>user_id</th>\n      <th>month</th>\n      <th></th>\n      <th></th>\n      <th></th>\n      <th></th>\n    </tr>\n  </thead>\n  <tbody>\n    <tr>\n      <th rowspan=\"5\" valign=\"top\">1000</th>\n      <th>5</th>\n      <td>22.0</td>\n      <td>159.0</td>\n      <td>2254.0</td>\n      <td>22.0</td>\n    </tr>\n    <tr>\n      <th>6</th>\n      <td>43.0</td>\n      <td>172.0</td>\n      <td>23234.0</td>\n      <td>60.0</td>\n    </tr>\n    <tr>\n      <th>7</th>\n      <td>47.0</td>\n      <td>340.0</td>\n      <td>14004.0</td>\n      <td>75.0</td>\n    </tr>\n    <tr>\n      <th>8</th>\n      <td>52.0</td>\n      <td>408.0</td>\n      <td>14056.0</td>\n      <td>81.0</td>\n    </tr>\n    <tr>\n      <th>9</th>\n      <td>58.0</td>\n      <td>466.0</td>\n      <td>14569.0</td>\n      <td>57.0</td>\n    </tr>\n  </tbody>\n</table>\n</div>"
     },
     "execution_count": 422,
     "metadata": {},
     "output_type": "execute_result"
    }
   ],
   "source": [
    "users_pivot = calls_per_month.join([mb_used_per_month, messages_per_month], how='outer')\n",
    "users_pivot.head()"
   ],
   "metadata": {
    "collapsed": false,
    "ExecuteTime": {
     "end_time": "2024-11-01T19:14:09.924379Z",
     "start_time": "2024-11-01T19:14:09.913642Z"
    }
   },
   "id": "71a6167c39ea43ea",
   "execution_count": 422
  },
  {
   "cell_type": "code",
   "outputs": [],
   "source": [
    "users_pivot = users_pivot.join(users.loc[:,['user_id', 'tariff']].set_index('user_id'),\n",
    "                               how='outer')"
   ],
   "metadata": {
    "collapsed": false,
    "ExecuteTime": {
     "end_time": "2024-11-01T19:14:10.000886Z",
     "start_time": "2024-11-01T19:14:09.991087Z"
    }
   },
   "id": "9c88821640f6b16f",
   "execution_count": 423
  },
  {
   "cell_type": "code",
   "outputs": [
    {
     "data": {
      "text/plain": "               calls_count  calls_duration  mb_used_sum  msg_count     tariff\nuser_id month                                                                \n1000    5             22.0           159.0       2254.0       22.0  unlimited\n        6             43.0           172.0      23234.0       60.0  unlimited\n        7             47.0           340.0      14004.0       75.0  unlimited\n        8             52.0           408.0      14056.0       81.0  unlimited\n        9             58.0           466.0      14569.0       57.0  unlimited",
      "text/html": "<div>\n<style scoped>\n    .dataframe tbody tr th:only-of-type {\n        vertical-align: middle;\n    }\n\n    .dataframe tbody tr th {\n        vertical-align: top;\n    }\n\n    .dataframe thead th {\n        text-align: right;\n    }\n</style>\n<table border=\"1\" class=\"dataframe\">\n  <thead>\n    <tr style=\"text-align: right;\">\n      <th></th>\n      <th></th>\n      <th>calls_count</th>\n      <th>calls_duration</th>\n      <th>mb_used_sum</th>\n      <th>msg_count</th>\n      <th>tariff</th>\n    </tr>\n    <tr>\n      <th>user_id</th>\n      <th>month</th>\n      <th></th>\n      <th></th>\n      <th></th>\n      <th></th>\n      <th></th>\n    </tr>\n  </thead>\n  <tbody>\n    <tr>\n      <th rowspan=\"5\" valign=\"top\">1000</th>\n      <th>5</th>\n      <td>22.0</td>\n      <td>159.0</td>\n      <td>2254.0</td>\n      <td>22.0</td>\n      <td>unlimited</td>\n    </tr>\n    <tr>\n      <th>6</th>\n      <td>43.0</td>\n      <td>172.0</td>\n      <td>23234.0</td>\n      <td>60.0</td>\n      <td>unlimited</td>\n    </tr>\n    <tr>\n      <th>7</th>\n      <td>47.0</td>\n      <td>340.0</td>\n      <td>14004.0</td>\n      <td>75.0</td>\n      <td>unlimited</td>\n    </tr>\n    <tr>\n      <th>8</th>\n      <td>52.0</td>\n      <td>408.0</td>\n      <td>14056.0</td>\n      <td>81.0</td>\n      <td>unlimited</td>\n    </tr>\n    <tr>\n      <th>9</th>\n      <td>58.0</td>\n      <td>466.0</td>\n      <td>14569.0</td>\n      <td>57.0</td>\n      <td>unlimited</td>\n    </tr>\n  </tbody>\n</table>\n</div>"
     },
     "execution_count": 424,
     "metadata": {},
     "output_type": "execute_result"
    }
   ],
   "source": [
    "users_pivot.head()"
   ],
   "metadata": {
    "collapsed": false,
    "ExecuteTime": {
     "end_time": "2024-11-01T19:14:10.150380Z",
     "start_time": "2024-11-01T19:14:10.144540Z"
    }
   },
   "id": "939898c562adb995",
   "execution_count": 424
  },
  {
   "cell_type": "markdown",
   "source": [
    "However, earlier we could notice that all tables have different number of rows. This is because some users did not have information for specific months, for example, they may not have sent any messages in a month, or they may not have accessed the Internet. This means that there are gaps in our summary table. We will fill them with zeros, based on the logic that the user did not perform any actions in a certain period."
   ],
   "metadata": {
    "collapsed": false
   },
   "id": "4d1e3d51bbdf97a6"
  },
  {
   "cell_type": "code",
   "outputs": [
    {
     "data": {
      "text/plain": "calls_count       0\ncalls_duration    0\nmb_used_sum       0\nmsg_count         0\ntariff            0\ndtype: int64"
     },
     "execution_count": 425,
     "metadata": {},
     "output_type": "execute_result"
    }
   ],
   "source": [
    "users_pivot.fillna(0, inplace=True)\n",
    "users_pivot.isnull().sum()"
   ],
   "metadata": {
    "collapsed": false,
    "ExecuteTime": {
     "end_time": "2024-11-01T19:14:10.278709Z",
     "start_time": "2024-11-01T19:14:10.273918Z"
    }
   },
   "id": "5931d337710c3b4f",
   "execution_count": 425
  },
  {
   "cell_type": "markdown",
   "source": [
    "Also to test the hypotheses we need information about the users' city, let's add it to the table."
   ],
   "metadata": {
    "collapsed": false
   },
   "id": "5b926acf3e19e4f2"
  },
  {
   "cell_type": "code",
   "outputs": [],
   "source": [
    "users_pivot = users_pivot.join(users.loc[:,['user_id', 'city']].set_index('user_id'), how='outer')"
   ],
   "metadata": {
    "collapsed": false,
    "ExecuteTime": {
     "end_time": "2024-11-01T19:14:10.331943Z",
     "start_time": "2024-11-01T19:14:10.326951Z"
    }
   },
   "id": "4f99a02bc3dd9e33",
   "execution_count": 426
  },
  {
   "cell_type": "markdown",
   "source": [
    "Now we can add a column of gigabytes used by the user in each month"
   ],
   "metadata": {
    "collapsed": false
   },
   "id": "c37d2990e9d345cd"
  },
  {
   "cell_type": "code",
   "outputs": [
    {
     "data": {
      "text/plain": "               calls_count  calls_duration  mb_used_sum  msg_count     tariff  \\\nuser_id month                                                                   \n1000    5             22.0           159.0       2254.0       22.0  unlimited   \n        6             43.0           172.0      23234.0       60.0  unlimited   \n        7             47.0           340.0      14004.0       75.0  unlimited   \n        8             52.0           408.0      14056.0       81.0  unlimited   \n        9             58.0           466.0      14569.0       57.0  unlimited   \n\n                     city  gb_used_sum  \nuser_id month                           \n1000    5      Manchester            3  \n        6      Manchester           23  \n        7      Manchester           14  \n        8      Manchester           14  \n        9      Manchester           15  ",
      "text/html": "<div>\n<style scoped>\n    .dataframe tbody tr th:only-of-type {\n        vertical-align: middle;\n    }\n\n    .dataframe tbody tr th {\n        vertical-align: top;\n    }\n\n    .dataframe thead th {\n        text-align: right;\n    }\n</style>\n<table border=\"1\" class=\"dataframe\">\n  <thead>\n    <tr style=\"text-align: right;\">\n      <th></th>\n      <th></th>\n      <th>calls_count</th>\n      <th>calls_duration</th>\n      <th>mb_used_sum</th>\n      <th>msg_count</th>\n      <th>tariff</th>\n      <th>city</th>\n      <th>gb_used_sum</th>\n    </tr>\n    <tr>\n      <th>user_id</th>\n      <th>month</th>\n      <th></th>\n      <th></th>\n      <th></th>\n      <th></th>\n      <th></th>\n      <th></th>\n      <th></th>\n    </tr>\n  </thead>\n  <tbody>\n    <tr>\n      <th rowspan=\"5\" valign=\"top\">1000</th>\n      <th>5</th>\n      <td>22.0</td>\n      <td>159.0</td>\n      <td>2254.0</td>\n      <td>22.0</td>\n      <td>unlimited</td>\n      <td>Manchester</td>\n      <td>3</td>\n    </tr>\n    <tr>\n      <th>6</th>\n      <td>43.0</td>\n      <td>172.0</td>\n      <td>23234.0</td>\n      <td>60.0</td>\n      <td>unlimited</td>\n      <td>Manchester</td>\n      <td>23</td>\n    </tr>\n    <tr>\n      <th>7</th>\n      <td>47.0</td>\n      <td>340.0</td>\n      <td>14004.0</td>\n      <td>75.0</td>\n      <td>unlimited</td>\n      <td>Manchester</td>\n      <td>14</td>\n    </tr>\n    <tr>\n      <th>8</th>\n      <td>52.0</td>\n      <td>408.0</td>\n      <td>14056.0</td>\n      <td>81.0</td>\n      <td>unlimited</td>\n      <td>Manchester</td>\n      <td>14</td>\n    </tr>\n    <tr>\n      <th>9</th>\n      <td>58.0</td>\n      <td>466.0</td>\n      <td>14569.0</td>\n      <td>57.0</td>\n      <td>unlimited</td>\n      <td>Manchester</td>\n      <td>15</td>\n    </tr>\n  </tbody>\n</table>\n</div>"
     },
     "execution_count": 427,
     "metadata": {},
     "output_type": "execute_result"
    }
   ],
   "source": [
    "users_pivot['gb_used_sum'] = np.ceil(users_pivot['mb_used_sum']/1024)\n",
    "users_pivot = users_pivot.astype({'gb_used_sum': int})\n",
    "users_pivot.head()"
   ],
   "metadata": {
    "collapsed": false,
    "ExecuteTime": {
     "end_time": "2024-11-01T19:14:10.412518Z",
     "start_time": "2024-11-01T19:14:10.405829Z"
    }
   },
   "id": "656b099e9bcb77c0",
   "execution_count": 427
  },
  {
   "cell_type": "markdown",
   "source": [
    "The pivot table is now prepared to calculate the monthly revenue. In order to calculate the revenue, it is necessary to subtract the free limit for each user from the total number of calls, messages and internet traffic. The remainder should then be multiplied by the value from the tariff plan. The monthly subscription fee should also be added to the sum."
   ],
   "metadata": {
    "collapsed": false
   },
   "id": "dbcfd6cd302267de"
  },
  {
   "cell_type": "code",
   "outputs": [],
   "source": [
    "tariffs = tariffs.set_index('tariff_name')\n",
    "\n",
    "def total_income_per_month(row):\n",
    "    tariff_data = tariffs.loc[row['tariff']]\n",
    "    \n",
    "    gigabytes_included = tariff_data['mb_per_month_included'] / 1024\n",
    "    monthly_fee = tariff_data['gbp_monthly_fee']\n",
    "    \n",
    "    over_gb = max(0, np.ceil(row['gb_used_sum'] - gigabytes_included)) * tariff_data['gbp_per_gb']\n",
    "    over_calls = max(0, row['calls_duration'] - tariff_data['minutes_included']) * tariff_data['gbp_per_minute']\n",
    "    over_msg = max(0, row['msg_count'] - tariff_data['messages_included']) * tariff_data['gbp_per_message']\n",
    "    \n",
    "    return monthly_fee + over_gb + over_calls + over_msg"
   ],
   "metadata": {
    "collapsed": false,
    "ExecuteTime": {
     "end_time": "2024-11-01T19:14:10.482160Z",
     "start_time": "2024-11-01T19:14:10.477742Z"
    }
   },
   "id": "188ae5ea672289fb",
   "execution_count": 428
  },
  {
   "cell_type": "code",
   "outputs": [],
   "source": [
    "users_pivot['total_income'] = users_pivot.apply(total_income_per_month, axis = 1)"
   ],
   "metadata": {
    "collapsed": false,
    "ExecuteTime": {
     "end_time": "2024-11-01T19:14:10.673332Z",
     "start_time": "2024-11-01T19:14:10.585074Z"
    }
   },
   "id": "36afc9b8e6599d99",
   "execution_count": 429
  },
  {
   "cell_type": "code",
   "outputs": [],
   "source": [
    "tariffs = tariffs.reset_index()"
   ],
   "metadata": {
    "collapsed": false,
    "ExecuteTime": {
     "end_time": "2024-11-01T19:14:10.677214Z",
     "start_time": "2024-11-01T19:14:10.674258Z"
    }
   },
   "id": "2bb2e2ef592d336d",
   "execution_count": 430
  },
  {
   "cell_type": "code",
   "outputs": [
    {
     "data": {
      "text/plain": "               calls_count  calls_duration  mb_used_sum  msg_count tariff  \\\nuser_id month                                                               \n1211    12            45.0           330.0      16901.0       10.0  smart   \n1372    10            60.0           437.0      11054.0       40.0  smart   \n1475    3             40.0           238.0      13582.0       12.0  smart   \n1032    2             58.0           371.0      12493.0       36.0  smart   \n1248    6            121.0           875.0      14976.0        0.0  smart   \n\n                   city  gb_used_sum  total_income  \nuser_id month                                       \n1211    12     Hereford           17         10.00  \n1372    10     Barnsley           11          6.00  \n1475    3       Bristol           14          6.00  \n1032    2        Oxford           13          6.00  \n1248    6        London           15         17.25  ",
      "text/html": "<div>\n<style scoped>\n    .dataframe tbody tr th:only-of-type {\n        vertical-align: middle;\n    }\n\n    .dataframe tbody tr th {\n        vertical-align: top;\n    }\n\n    .dataframe thead th {\n        text-align: right;\n    }\n</style>\n<table border=\"1\" class=\"dataframe\">\n  <thead>\n    <tr style=\"text-align: right;\">\n      <th></th>\n      <th></th>\n      <th>calls_count</th>\n      <th>calls_duration</th>\n      <th>mb_used_sum</th>\n      <th>msg_count</th>\n      <th>tariff</th>\n      <th>city</th>\n      <th>gb_used_sum</th>\n      <th>total_income</th>\n    </tr>\n    <tr>\n      <th>user_id</th>\n      <th>month</th>\n      <th></th>\n      <th></th>\n      <th></th>\n      <th></th>\n      <th></th>\n      <th></th>\n      <th></th>\n      <th></th>\n    </tr>\n  </thead>\n  <tbody>\n    <tr>\n      <th>1211</th>\n      <th>12</th>\n      <td>45.0</td>\n      <td>330.0</td>\n      <td>16901.0</td>\n      <td>10.0</td>\n      <td>smart</td>\n      <td>Hereford</td>\n      <td>17</td>\n      <td>10.00</td>\n    </tr>\n    <tr>\n      <th>1372</th>\n      <th>10</th>\n      <td>60.0</td>\n      <td>437.0</td>\n      <td>11054.0</td>\n      <td>40.0</td>\n      <td>smart</td>\n      <td>Barnsley</td>\n      <td>11</td>\n      <td>6.00</td>\n    </tr>\n    <tr>\n      <th>1475</th>\n      <th>3</th>\n      <td>40.0</td>\n      <td>238.0</td>\n      <td>13582.0</td>\n      <td>12.0</td>\n      <td>smart</td>\n      <td>Bristol</td>\n      <td>14</td>\n      <td>6.00</td>\n    </tr>\n    <tr>\n      <th>1032</th>\n      <th>2</th>\n      <td>58.0</td>\n      <td>371.0</td>\n      <td>12493.0</td>\n      <td>36.0</td>\n      <td>smart</td>\n      <td>Oxford</td>\n      <td>13</td>\n      <td>6.00</td>\n    </tr>\n    <tr>\n      <th>1248</th>\n      <th>6</th>\n      <td>121.0</td>\n      <td>875.0</td>\n      <td>14976.0</td>\n      <td>0.0</td>\n      <td>smart</td>\n      <td>London</td>\n      <td>15</td>\n      <td>17.25</td>\n    </tr>\n  </tbody>\n</table>\n</div>"
     },
     "execution_count": 431,
     "metadata": {},
     "output_type": "execute_result"
    }
   ],
   "source": [
    "users_pivot.sample(5)"
   ],
   "metadata": {
    "collapsed": false,
    "ExecuteTime": {
     "end_time": "2024-11-01T19:14:10.784639Z",
     "start_time": "2024-11-01T19:14:10.776953Z"
    }
   },
   "id": "3b80a5647656dcee",
   "execution_count": 431
  },
  {
   "cell_type": "markdown",
   "source": [
    "## Data analysis"
   ],
   "metadata": {
    "collapsed": false
   },
   "id": "faff91efac3d2102"
  },
  {
   "cell_type": "markdown",
   "source": [
    "Let's find out how many minutes of talk time, traffic and messages each tariff user needs on average per month. Create a pivot table by grouping the data by users and using the function to find the median."
   ],
   "metadata": {
    "collapsed": false
   },
   "id": "7371cb81414476a0"
  },
  {
   "cell_type": "code",
   "outputs": [],
   "source": [
    "medians_per_month = users_pivot.pivot_table(index='user_id', \n",
    "                                            values=['calls_duration', 'mb_used_sum', 'msg_count'],\n",
    "                                            aggfunc='median')"
   ],
   "metadata": {
    "collapsed": false,
    "ExecuteTime": {
     "end_time": "2024-11-01T19:14:10.824677Z",
     "start_time": "2024-11-01T19:14:10.820258Z"
    }
   },
   "id": "6e8b622da48e8b0e",
   "execution_count": 432
  },
  {
   "cell_type": "markdown",
   "source": [
    "Let's add information about users' tariffs to the table."
   ],
   "metadata": {
    "collapsed": false
   },
   "id": "228e17292b57ca53"
  },
  {
   "cell_type": "code",
   "outputs": [
    {
     "data": {
      "text/plain": "         calls_duration  mb_used_sum  msg_count     tariff\nuser_id                                                   \n1000              339.0      14312.5       65.0  unlimited\n1001              422.0      16233.5        0.0      smart\n1002              214.0      17581.0       11.0      smart\n1003              824.0      11357.0       83.0  unlimited\n1004              132.5      17811.5      154.5  unlimited",
      "text/html": "<div>\n<style scoped>\n    .dataframe tbody tr th:only-of-type {\n        vertical-align: middle;\n    }\n\n    .dataframe tbody tr th {\n        vertical-align: top;\n    }\n\n    .dataframe thead th {\n        text-align: right;\n    }\n</style>\n<table border=\"1\" class=\"dataframe\">\n  <thead>\n    <tr style=\"text-align: right;\">\n      <th></th>\n      <th>calls_duration</th>\n      <th>mb_used_sum</th>\n      <th>msg_count</th>\n      <th>tariff</th>\n    </tr>\n    <tr>\n      <th>user_id</th>\n      <th></th>\n      <th></th>\n      <th></th>\n      <th></th>\n    </tr>\n  </thead>\n  <tbody>\n    <tr>\n      <th>1000</th>\n      <td>339.0</td>\n      <td>14312.5</td>\n      <td>65.0</td>\n      <td>unlimited</td>\n    </tr>\n    <tr>\n      <th>1001</th>\n      <td>422.0</td>\n      <td>16233.5</td>\n      <td>0.0</td>\n      <td>smart</td>\n    </tr>\n    <tr>\n      <th>1002</th>\n      <td>214.0</td>\n      <td>17581.0</td>\n      <td>11.0</td>\n      <td>smart</td>\n    </tr>\n    <tr>\n      <th>1003</th>\n      <td>824.0</td>\n      <td>11357.0</td>\n      <td>83.0</td>\n      <td>unlimited</td>\n    </tr>\n    <tr>\n      <th>1004</th>\n      <td>132.5</td>\n      <td>17811.5</td>\n      <td>154.5</td>\n      <td>unlimited</td>\n    </tr>\n  </tbody>\n</table>\n</div>"
     },
     "execution_count": 433,
     "metadata": {},
     "output_type": "execute_result"
    }
   ],
   "source": [
    "medians_per_month.join(users.loc[:,['user_id', 'tariff']].set_index('user_id'), how='outer').head()"
   ],
   "metadata": {
    "collapsed": false,
    "ExecuteTime": {
     "end_time": "2024-11-01T19:14:10.854127Z",
     "start_time": "2024-11-01T19:14:10.846805Z"
    }
   },
   "id": "8af45354e2b2e1ef",
   "execution_count": 433
  },
  {
   "cell_type": "markdown",
   "source": [
    "As we can see, users use the services differently: someone does not send a single message in a month, and someone talks for 800 minutes."
   ],
   "metadata": {
    "collapsed": false
   },
   "id": "334c630eee42e16f"
  },
  {
   "cell_type": "markdown",
   "source": [
    "Let's calculate the mean, median, variance and standard deviation for call duration, traffic used and number of messages."
   ],
   "metadata": {
    "collapsed": false
   },
   "id": "6c4687d0fe7ab1d2"
  },
  {
   "cell_type": "code",
   "outputs": [],
   "source": [
    "agg_functions = ['mean', 'median', 'var', 'std']\n",
    "values_to_aggregate = ['calls_duration', 'mb_used_sum', 'gb_used_sum', 'msg_count']\n",
    "\n",
    "statistics_summary = users_pivot.pivot_table(\n",
    "    index='tariff', \n",
    "    values=values_to_aggregate, \n",
    "    aggfunc={col: agg_functions for col in values_to_aggregate}\n",
    ")\n",
    "\n",
    "statistics_summary = statistics_summary.round(1)"
   ],
   "metadata": {
    "collapsed": false,
    "ExecuteTime": {
     "end_time": "2024-11-01T19:14:10.908082Z",
     "start_time": "2024-11-01T19:14:10.900888Z"
    }
   },
   "id": "d1b4e5a8d9860d38",
   "execution_count": 434
  },
  {
   "cell_type": "code",
   "outputs": [
    {
     "data": {
      "text/plain": "          calls_duration                         gb_used_sum              \\\n                    mean median    std       var        mean median  std   \ntariff                                                                     \nsmart              417.9  422.0  190.3   36219.3        16.3   17.0  5.7   \nunlimited          526.6  518.0  317.6  100873.6        19.5   19.0  9.9   \n\n                mb_used_sum                                msg_count         \\\n            var        mean   median      std          var      mean median   \ntariff                                                                        \nsmart      33.0     16208.9  16507.0   5870.5   34462559.5      33.4   28.0   \nunlimited  97.1     19469.3  19309.0  10087.2  101751409.8      49.4   38.0   \n\n                         \n            std     var  \ntariff                   \nsmart      28.2   796.8  \nunlimited  47.8  2285.3  ",
      "text/html": "<div>\n<style scoped>\n    .dataframe tbody tr th:only-of-type {\n        vertical-align: middle;\n    }\n\n    .dataframe tbody tr th {\n        vertical-align: top;\n    }\n\n    .dataframe thead tr th {\n        text-align: left;\n    }\n\n    .dataframe thead tr:last-of-type th {\n        text-align: right;\n    }\n</style>\n<table border=\"1\" class=\"dataframe\">\n  <thead>\n    <tr>\n      <th></th>\n      <th colspan=\"4\" halign=\"left\">calls_duration</th>\n      <th colspan=\"4\" halign=\"left\">gb_used_sum</th>\n      <th colspan=\"4\" halign=\"left\">mb_used_sum</th>\n      <th colspan=\"4\" halign=\"left\">msg_count</th>\n    </tr>\n    <tr>\n      <th></th>\n      <th>mean</th>\n      <th>median</th>\n      <th>std</th>\n      <th>var</th>\n      <th>mean</th>\n      <th>median</th>\n      <th>std</th>\n      <th>var</th>\n      <th>mean</th>\n      <th>median</th>\n      <th>std</th>\n      <th>var</th>\n      <th>mean</th>\n      <th>median</th>\n      <th>std</th>\n      <th>var</th>\n    </tr>\n    <tr>\n      <th>tariff</th>\n      <th></th>\n      <th></th>\n      <th></th>\n      <th></th>\n      <th></th>\n      <th></th>\n      <th></th>\n      <th></th>\n      <th></th>\n      <th></th>\n      <th></th>\n      <th></th>\n      <th></th>\n      <th></th>\n      <th></th>\n      <th></th>\n    </tr>\n  </thead>\n  <tbody>\n    <tr>\n      <th>smart</th>\n      <td>417.9</td>\n      <td>422.0</td>\n      <td>190.3</td>\n      <td>36219.3</td>\n      <td>16.3</td>\n      <td>17.0</td>\n      <td>5.7</td>\n      <td>33.0</td>\n      <td>16208.9</td>\n      <td>16507.0</td>\n      <td>5870.5</td>\n      <td>34462559.5</td>\n      <td>33.4</td>\n      <td>28.0</td>\n      <td>28.2</td>\n      <td>796.8</td>\n    </tr>\n    <tr>\n      <th>unlimited</th>\n      <td>526.6</td>\n      <td>518.0</td>\n      <td>317.6</td>\n      <td>100873.6</td>\n      <td>19.5</td>\n      <td>19.0</td>\n      <td>9.9</td>\n      <td>97.1</td>\n      <td>19469.3</td>\n      <td>19309.0</td>\n      <td>10087.2</td>\n      <td>101751409.8</td>\n      <td>49.4</td>\n      <td>38.0</td>\n      <td>47.8</td>\n      <td>2285.3</td>\n    </tr>\n  </tbody>\n</table>\n</div>"
     },
     "execution_count": 435,
     "metadata": {},
     "output_type": "execute_result"
    }
   ],
   "source": [
    "statistics_summary"
   ],
   "metadata": {
    "collapsed": false,
    "ExecuteTime": {
     "end_time": "2024-11-01T19:14:10.935959Z",
     "start_time": "2024-11-01T19:14:10.929020Z"
    }
   },
   "id": "5eae2f5db7d7a16e",
   "execution_count": 435
  },
  {
   "cell_type": "markdown",
   "source": [
    "The following conclusions can be drawn from the statistics:\n",
    "\n",
    "- On average, a Smart user talks 422 minutes per month, and Unlimited user - 518 minutes.\n",
    "- On average, a Smart user uses 17 gb of traffic, while an Unlimited user uses 19 gb.\n",
    "- On average, a Smart user sends 28 messages and an Unlimited user sends 38 messages.\n",
    "- The variance of the Unlimited tariff is larger than that of the Smart tariff, which tells us about a larger range of values.\n",
    "\n",
    "In general, users of the Unlimited tariff use the operator's services more freely, they talk more, spend more time on the Internet, send more messages, while the average user does not exceed the tariff limits. On the other hand, the average user of the Smart tariff has to buy 1 gb of traffic over the limit."
   ],
   "metadata": {
    "collapsed": false
   },
   "id": "8073a690f3a89df9"
  },
  {
   "cell_type": "code",
   "outputs": [],
   "source": [
    "plt.style.use('ggplot')\n",
    "sns.set_palette('pastel')\n",
    "sns.set_style('whitegrid')"
   ],
   "metadata": {
    "collapsed": false,
    "ExecuteTime": {
     "end_time": "2024-11-01T19:14:11.082921Z",
     "start_time": "2024-11-01T19:14:11.079479Z"
    }
   },
   "id": "1ba93a1608eed58f",
   "execution_count": 436
  },
  {
   "cell_type": "markdown",
   "source": [
    "### Box plots and Histograms"
   ],
   "metadata": {
    "collapsed": false
   },
   "id": "483e45622bbd3bcf"
  },
  {
   "cell_type": "code",
   "outputs": [
    {
     "data": {
      "text/plain": "<Figure size 1000x1000 with 4 Axes>",
      "image/png": "[encoded data removed]"
     },
     "metadata": {},
     "output_type": "display_data"
    }
   ],
   "source": [
    "fix, axes = plt.subplots(2, 2, figsize=(10, 10))\n",
    "\n",
    "labels = ['Calls Duration (min)', 'MB Used', 'GB Used', 'Messages Count']\n",
    "columns = ['calls_duration', 'mb_used_sum', 'gb_used_sum', 'msg_count']\n",
    "\n",
    "for ax, column, label in zip(axes.flatten(), columns, labels):\n",
    "    sns.boxplot(data=users_pivot, x='tariff', y=column, ax=ax, hue='tariff')\n",
    "    ax.set_title(label)\n",
    "    ax.set_ylabel('')\n",
    "    ax.set_xlabel('')\n",
    "    \n",
    "plt.tight_layout()\n",
    "plt.show()"
   ],
   "metadata": {
    "collapsed": false,
    "ExecuteTime": {
     "end_time": "2024-11-01T19:14:11.515695Z",
     "start_time": "2024-11-01T19:14:11.137649Z"
    }
   },
   "id": "3b785b154e080260",
   "execution_count": 437
  },
  {
   "cell_type": "code",
   "outputs": [
    {
     "data": {
      "text/plain": "<Figure size 1200x600 with 0 Axes>"
     },
     "metadata": {},
     "output_type": "display_data"
    },
    {
     "data": {
      "text/plain": "<Figure size 1400x1200 with 4 Axes>",
      "image/png": "[encoded data removed]"
     },
     "metadata": {},
     "output_type": "display_data"
    }
   ],
   "source": [
    "plt.figure(figsize=(12, 6))\n",
    "\n",
    "tariffs = ['smart', 'unlimited']\n",
    "\n",
    "fig, axes = plt.subplots(2, 2, figsize=(14, 12))\n",
    "axes = axes.flatten()\n",
    "\n",
    "for ax, label, column in zip(axes, labels, columns):\n",
    "    for tariff in tariffs:\n",
    "        sns.histplot(\n",
    "            data=users_pivot.query('tariff == @tariff'),\n",
    "            x=column,\n",
    "            kde=True,\n",
    "            bins=12,\n",
    "            label=tariff,\n",
    "            ax=ax\n",
    "        )\n",
    "\n",
    "    ax.set_title(f'{label} by Tariff')\n",
    "    ax.set_xlabel('')\n",
    "    ax.set_ylabel('')\n",
    "    ax.legend(title='Tariff')\n",
    "    ax.tick_params(labelsize=14)\n",
    "\n",
    "plt.tight_layout()\n",
    "plt.show()"
   ],
   "metadata": {
    "collapsed": false,
    "ExecuteTime": {
     "end_time": "2024-11-01T19:14:12.672853Z",
     "start_time": "2024-11-01T19:14:11.518016Z"
    }
   },
   "id": "7a65d2f0fdcf880d",
   "execution_count": 438
  },
  {
   "cell_type": "markdown",
   "source": [
    "From boxplots and histograms we can clearly see that dispersions and spreads are larger for the Unlimited tariff, as well as mean and median values are shifted to a larger extent for the Unlimited tariff than for the Smart tariff. It should also be noted that there are fewer outliers among the Unlimited tariff values.\n",
    "\n",
    "The distributions of call duration and used traffic for both tariffs are close to a normal distribution and relatively symmetrical, but have ‘heavy’ tails. We will assume that the distribution of these values is Student's distribution.\n",
    "\n",
    "The histogram of the distribution of the number of sent messages has a pronounced slope to the right. This histogram also clearly shows that the mean value is larger than the median."
   ],
   "metadata": {
    "collapsed": false
   },
   "id": "2ad7e445d6a37d30"
  },
  {
   "cell_type": "code",
   "outputs": [
    {
     "data": {
      "text/plain": "<Figure size 1600x600 with 2 Axes>",
      "image/png": "[encoded data removed]"
     },
     "metadata": {},
     "output_type": "display_data"
    }
   ],
   "source": [
    "tariffs = users_pivot['tariff'].unique()\n",
    "monthly_income_smart = (users_pivot.query('tariff == \"smart\"')\n",
    "                        .pivot_table(index='month', values='total_income', aggfunc='median')\n",
    "                        .assign(month_name=['January', 'February', 'March', 'April', 'May', 'June',\n",
    "                                            'July', 'August', 'September', 'October', 'November', 'December']))\n",
    "\n",
    "fig, (ax1, ax2) = plt.subplots(1, 2, figsize=(16, 6), gridspec_kw={'width_ratios': [1, 4]})\n",
    "\n",
    "sns.barplot(x=tariffs, \n",
    "            y=users_pivot.groupby('tariff')['total_income'].sum(),\n",
    "            ax=ax1).set(title='Total Income by Tariff', ylabel='', xlabel='')\n",
    "\n",
    "sns.barplot(x='month_name', y='total_income', color='#fcb484', data=monthly_income_smart, ax=ax2, label='Median Monthly Income')\n",
    "ax2.hlines(6, -0.5, 11.5, color='blue', label='Subscription Fee, 6 gbp')\n",
    "ax2.set(title='Average Monthly Income for \"Smart\" Tariff Users', ylabel='', xlabel='')\n",
    "ax2.legend(fontsize=14)\n",
    "\n",
    "for p in ax2.patches:\n",
    "    ax2.annotate(f'{p.get_height():.0f}', (p.get_x() + p.get_width() / 2, p.get_height()), ha='center', va='bottom', fontsize=10)\n",
    "\n",
    "plt.tight_layout()\n",
    "plt.show()"
   ],
   "metadata": {
    "collapsed": false,
    "ExecuteTime": {
     "end_time": "2024-11-01T19:14:12.938755Z",
     "start_time": "2024-11-01T19:14:12.676363Z"
    }
   },
   "id": "841c3933882d80cd",
   "execution_count": 439
  },
  {
   "cell_type": "markdown",
   "source": [
    "Data analysis showed that:\n",
    "\n",
    "- On average, \"Smart\" users talk for 422 minutes per month, use 16.5 GB of data, and send 28 messages, whereas \"Unlimited\" users talk for 518 minutes, use 19 GB of data, and send 38 messages.\n",
    "- The variance is higher for the \"Unlimited\" plan, indicating a greater spread in usage values.\n",
    "- Box plots and histograms revealed that \"Unlimited\" users tend to use services more actively while staying within limits, whereas \"Smart\" users frequently purchase extra data.\n",
    "- In December, the average \"Smart\" bill was 13 gbp, which is more than twice the standard subscription fee.\n",
    "- The annual revenue from \"Smart\" users was 29,8 thousands gbp, while \"Unlimited\" users contributed 20,8 thousands gbp."
   ],
   "metadata": {
    "collapsed": false
   },
   "id": "be53dc601c04a768"
  },
  {
   "cell_type": "markdown",
   "source": [
    "## Hypothesis validation"
   ],
   "metadata": {
    "collapsed": false
   },
   "id": "e10c5ab40bcead53"
  },
  {
   "cell_type": "markdown",
   "source": [
    "Let's validate the hypothesis that the average revenue from users of the ‘Smart’ tariff is equal to the average revenue from users from the ‘Unlimited’ tariff."
   ],
   "metadata": {
    "collapsed": false
   },
   "id": "d37053feab5ccf0d"
  },
  {
   "cell_type": "markdown",
   "source": [
    "*H*<sub>0</sub> - average revenue from Unlimited tariff users is equal to average revenue from Smart tariff users\n",
    "\n",
    "*H*<sub>1</sub> - average revenues differ\n",
    "\n",
    "α = 0.1% - significance rate"
   ],
   "metadata": {
    "collapsed": false
   },
   "id": "dab6bc2fa0ddb73b"
  },
  {
   "cell_type": "code",
   "outputs": [],
   "source": [
    "alpha = .001"
   ],
   "metadata": {
    "collapsed": false,
    "ExecuteTime": {
     "end_time": "2024-11-01T19:14:12.942402Z",
     "start_time": "2024-11-01T19:14:12.940101Z"
    }
   },
   "id": "3564668f1ec85096",
   "execution_count": 440
  },
  {
   "cell_type": "code",
   "outputs": [],
   "source": [
    "smart = users_pivot.query('tariff==\"smart\"')['total_income']\n",
    "unlimited = users_pivot.query('tariff==\"unlimited\"')['total_income']"
   ],
   "metadata": {
    "collapsed": false,
    "ExecuteTime": {
     "end_time": "2024-11-01T19:14:12.947487Z",
     "start_time": "2024-11-01T19:14:12.943132Z"
    }
   },
   "id": "7eb57b2bb056d628",
   "execution_count": 441
  },
  {
   "cell_type": "markdown",
   "source": [
    "Let's find out how dispersions of samples of smart and unlimited tariff users differ. We set the degree of freedom to 1, since we are working with samples from the general population."
   ],
   "metadata": {
    "collapsed": false
   },
   "id": "64da619467cc9edc"
  },
  {
   "cell_type": "code",
   "outputs": [
    {
     "name": "stdout",
     "output_type": "stream",
     "text": [
      "Variance of Smart users: 66.97857080064242\n",
      "Variance of Unlimited users: 14.15167450786183\n"
     ]
    }
   ],
   "source": [
    "print('Variance of Smart users:', smart.var(ddof=1))\n",
    "print('Variance of Unlimited users:', unlimited.var(ddof=1))"
   ],
   "metadata": {
    "collapsed": false,
    "ExecuteTime": {
     "end_time": "2024-11-01T19:14:12.950102Z",
     "start_time": "2024-11-01T19:14:12.947954Z"
    }
   },
   "id": "f70f3b52506e109a",
   "execution_count": 442
  },
  {
   "cell_type": "markdown",
   "source": [
    "Let's test the hypothesis with T-Test"
   ],
   "metadata": {
    "collapsed": false
   },
   "id": "b716857cf37fd315"
  },
  {
   "cell_type": "code",
   "outputs": [
    {
     "name": "stdout",
     "output_type": "stream",
     "text": [
      "p-value: 4.2606313931066396e-250\n",
      "Rejecting the null hypothesis\n"
     ]
    }
   ],
   "source": [
    "results = stats.ttest_ind(smart, unlimited, equal_var=False) \n",
    "print('p-value:', results.pvalue)\n",
    "\n",
    "if (results.pvalue < alpha):\n",
    "    print(\"Rejecting the null hypothesis\")\n",
    "else:\n",
    "    print(\"Failed to reject the null hypothesis\")"
   ],
   "metadata": {
    "collapsed": false,
    "ExecuteTime": {
     "end_time": "2024-11-01T19:14:12.959899Z",
     "start_time": "2024-11-01T19:14:12.950654Z"
    }
   },
   "id": "d5e89999f5d22aa1",
   "execution_count": 443
  },
  {
   "cell_type": "markdown",
   "source": [
    "For the sake of clarity, let's derive the calculated figures:"
   ],
   "metadata": {
    "collapsed": false
   },
   "id": "ad8702f0e2fe5faa"
  },
  {
   "cell_type": "code",
   "outputs": [
    {
     "data": {
      "text/plain": "           total_income\ntariff                 \nsmart         13.399735\nunlimited     21.201523",
      "text/html": "<div>\n<style scoped>\n    .dataframe tbody tr th:only-of-type {\n        vertical-align: middle;\n    }\n\n    .dataframe tbody tr th {\n        vertical-align: top;\n    }\n\n    .dataframe thead th {\n        text-align: right;\n    }\n</style>\n<table border=\"1\" class=\"dataframe\">\n  <thead>\n    <tr style=\"text-align: right;\">\n      <th></th>\n      <th>total_income</th>\n    </tr>\n    <tr>\n      <th>tariff</th>\n      <th></th>\n    </tr>\n  </thead>\n  <tbody>\n    <tr>\n      <th>smart</th>\n      <td>13.399735</td>\n    </tr>\n    <tr>\n      <th>unlimited</th>\n      <td>21.201523</td>\n    </tr>\n  </tbody>\n</table>\n</div>"
     },
     "execution_count": 444,
     "metadata": {},
     "output_type": "execute_result"
    }
   ],
   "source": [
    "users_pivot.pivot_table(index='tariff', values='total_income', aggfunc='mean')"
   ],
   "metadata": {
    "collapsed": false,
    "ExecuteTime": {
     "end_time": "2024-11-01T19:14:12.965062Z",
     "start_time": "2024-11-01T19:14:12.960679Z"
    }
   },
   "id": "6dbdab529b7d2c25",
   "execution_count": 444
  },
  {
   "cell_type": "markdown",
   "source": [
    "Based on the results of hypothesis testing, we can also state with a probability of 99.9% that the average revenue of the user of the Smart and Unlimited tariff are different."
   ],
   "metadata": {
    "collapsed": false
   },
   "id": "a1c52f4cd273441f"
  },
  {
   "cell_type": "markdown",
   "source": [
    "Let's validate the hypothesis that the average revenue from users from London is equal to the average revenue from users from other regions."
   ],
   "metadata": {
    "collapsed": false
   },
   "id": "90b9acf7d8555c2e"
  },
  {
   "cell_type": "markdown",
   "source": [
    "*H*<sub>0</sub> - average revenue of users from London is equal to the average revenue of users from other cities.\n",
    "\n",
    "*H*<sub>1</sub> - average revenues differ\n",
    "\n",
    "α = 0.1% - significance level"
   ],
   "metadata": {
    "collapsed": false
   },
   "id": "b1d97fe4c3339591"
  },
  {
   "cell_type": "code",
   "outputs": [],
   "source": [
    "alpha = .001"
   ],
   "metadata": {
    "collapsed": false,
    "ExecuteTime": {
     "end_time": "2024-11-01T19:14:12.967287Z",
     "start_time": "2024-11-01T19:14:12.965551Z"
    }
   },
   "id": "95b3dd3c2d0fc95a",
   "execution_count": 445
  },
  {
   "cell_type": "code",
   "outputs": [],
   "source": [
    "london = users_pivot.query('city == \"London\"')['total_income']\n",
    "others = users_pivot.query('city != \"London\"')['total_income']"
   ],
   "metadata": {
    "collapsed": false,
    "ExecuteTime": {
     "end_time": "2024-11-01T19:14:12.974368Z",
     "start_time": "2024-11-01T19:14:12.968821Z"
    }
   },
   "id": "8797d0eb67ed81c9",
   "execution_count": 446
  },
  {
   "cell_type": "markdown",
   "source": [
    "Let's calculate the variance for the distributions."
   ],
   "metadata": {
    "collapsed": false
   },
   "id": "3aa3ade7611ae96f"
  },
  {
   "cell_type": "code",
   "outputs": [
    {
     "name": "stdout",
     "output_type": "stream",
     "text": [
      "Variance of London users 56.56364670118859\n",
      "Varience of users from other cities 65.41376285218115\n"
     ]
    }
   ],
   "source": [
    "print('Variance of London users', london.var(ddof=1))\n",
    "print('Varience of users from other cities', others.var(ddof=1))"
   ],
   "metadata": {
    "collapsed": false,
    "ExecuteTime": {
     "end_time": "2024-11-01T19:14:12.979055Z",
     "start_time": "2024-11-01T19:14:12.975650Z"
    }
   },
   "id": "95b165eab0b75f6d",
   "execution_count": 447
  },
  {
   "cell_type": "markdown",
   "source": [
    "The variance of the samples are different, the samples are independent, to test the hypothesis we calculate the significance level similar to the way we calculated it for the previous hypothesis."
   ],
   "metadata": {
    "collapsed": false
   },
   "id": "614669395818c711"
  },
  {
   "cell_type": "code",
   "outputs": [
    {
     "name": "stdout",
     "output_type": "stream",
     "text": [
      "p-value: 0.5257376663729364\n",
      "Failed to reject the null hypothesis\n"
     ]
    }
   ],
   "source": [
    "results = stats.ttest_ind(london, others, equal_var=False) \n",
    "print('p-value:', results.pvalue)\n",
    "\n",
    "if (results.pvalue < alpha):\n",
    "    print(\"Rejecting the null hypothesis\")\n",
    "else:\n",
    "    print(\"Failed to reject the null hypothesis\")"
   ],
   "metadata": {
    "collapsed": false,
    "ExecuteTime": {
     "end_time": "2024-11-01T19:14:12.982394Z",
     "start_time": "2024-11-01T19:14:12.979596Z"
    }
   },
   "id": "a1c535af8728effe",
   "execution_count": 448
  },
  {
   "cell_type": "markdown",
   "source": [
    "In this case we failed to reject the null hypothesis. This suggests that **with a probability of 43.5%, comparing average revenues, we would get similar values.**"
   ],
   "metadata": {
    "collapsed": false
   },
   "id": "d91bd2d7eb132d89"
  },
  {
   "cell_type": "code",
   "outputs": [],
   "source": [
    "cities = users_pivot.copy()\n",
    "cities.loc[cities.loc[:,'city'] != 'London', 'city'] = 'Other City'"
   ],
   "metadata": {
    "collapsed": false,
    "ExecuteTime": {
     "end_time": "2024-11-01T19:14:12.985570Z",
     "start_time": "2024-11-01T19:14:12.982898Z"
    }
   },
   "id": "17490a9bbc2e5c08",
   "execution_count": 449
  },
  {
   "cell_type": "code",
   "outputs": [
    {
     "data": {
      "text/plain": "            total_income\ncity                    \nLondon         15.967136\nOther City     15.749362",
      "text/html": "<div>\n<style scoped>\n    .dataframe tbody tr th:only-of-type {\n        vertical-align: middle;\n    }\n\n    .dataframe tbody tr th {\n        vertical-align: top;\n    }\n\n    .dataframe thead th {\n        text-align: right;\n    }\n</style>\n<table border=\"1\" class=\"dataframe\">\n  <thead>\n    <tr style=\"text-align: right;\">\n      <th></th>\n      <th>total_income</th>\n    </tr>\n    <tr>\n      <th>city</th>\n      <th></th>\n    </tr>\n  </thead>\n  <tbody>\n    <tr>\n      <th>London</th>\n      <td>15.967136</td>\n    </tr>\n    <tr>\n      <th>Other City</th>\n      <td>15.749362</td>\n    </tr>\n  </tbody>\n</table>\n</div>"
     },
     "execution_count": 450,
     "metadata": {},
     "output_type": "execute_result"
    }
   ],
   "source": [
    "cities.pivot_table(index='city', values='total_income', aggfunc='mean')"
   ],
   "metadata": {
    "collapsed": false,
    "ExecuteTime": {
     "end_time": "2024-11-01T19:14:12.989536Z",
     "start_time": "2024-11-01T19:14:12.986025Z"
    }
   },
   "id": "542b682c228e35f4",
   "execution_count": 450
  },
  {
   "cell_type": "markdown",
   "source": [
    "As we can see, the mean values differ insignificantly, which is confirmed by the null hypothesis."
   ],
   "metadata": {
    "collapsed": false
   },
   "id": "732230a72f73e7be"
  },
  {
   "cell_type": "markdown",
   "source": [
    "Let's save user pivot table for further use in tableau"
   ],
   "metadata": {
    "collapsed": false
   },
   "id": "e15e7605ca0a1f99"
  },
  {
   "cell_type": "code",
   "outputs": [],
   "source": [
    "telcom_users = users_pivot.reset_index()\n",
    "telcom_users.to_csv('./datasets/telcom_users.csv')"
   ],
   "metadata": {
    "collapsed": false,
    "ExecuteTime": {
     "end_time": "2024-11-01T19:14:13.001947Z",
     "start_time": "2024-11-01T19:14:12.989938Z"
    }
   },
   "id": "d20f15d5d084b9c8",
   "execution_count": 451
  },
  {
   "cell_type": "code",
   "outputs": [
    {
     "name": "stdout",
     "output_type": "stream",
     "text": [
      "<class 'pandas.core.frame.DataFrame'>\n",
      "RangeIndex: 3214 entries, 0 to 3213\n",
      "Data columns (total 10 columns):\n",
      " #   Column          Non-Null Count  Dtype  \n",
      "---  ------          --------------  -----  \n",
      " 0   user_id         3214 non-null   int64  \n",
      " 1   month           3214 non-null   int32  \n",
      " 2   calls_count     3214 non-null   float64\n",
      " 3   calls_duration  3214 non-null   float64\n",
      " 4   mb_used_sum     3214 non-null   float64\n",
      " 5   msg_count       3214 non-null   float64\n",
      " 6   tariff          3214 non-null   object \n",
      " 7   city            3214 non-null   object \n",
      " 8   gb_used_sum     3214 non-null   int64  \n",
      " 9   total_income    3214 non-null   float64\n",
      "dtypes: float64(5), int32(1), int64(2), object(2)\n",
      "memory usage: 238.7+ KB\n"
     ]
    }
   ],
   "source": [
    "telcom_users.info()"
   ],
   "metadata": {
    "collapsed": false,
    "ExecuteTime": {
     "end_time": "2024-11-01T19:14:13.005936Z",
     "start_time": "2024-11-01T19:14:13.002531Z"
    }
   },
   "id": "90ed70cb2f595abb",
   "execution_count": 452
  },
  {
   "cell_type": "code",
   "outputs": [],
   "source": [],
   "metadata": {
    "collapsed": false,
    "ExecuteTime": {
     "end_time": "2024-11-01T19:14:13.007551Z",
     "start_time": "2024-11-01T19:14:13.006423Z"
    }
   },
   "id": "bad427ac4e785a1c",
   "execution_count": 452
  }
 ],
 "metadata": {
  "kernelspec": {
   "display_name": "Python 3",
   "language": "python",
   "name": "python3"
  },
  "language_info": {
   "codemirror_mode": {
    "name": "ipython",
    "version": 2
   },
   "file_extension": ".py",
   "mimetype": "text/x-python",
   "name": "python",
   "nbconvert_exporter": "python",
   "pygments_lexer": "ipython2",
   "version": "2.7.6"
  }
 },
 "nbformat": 4,
 "nbformat_minor": 5
}
